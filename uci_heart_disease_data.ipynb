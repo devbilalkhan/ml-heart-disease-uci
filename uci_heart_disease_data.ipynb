{
 "cells": [
  {
   "cell_type": "markdown",
   "metadata": {},
   "source": [
    "### Author: Muhammad Bilal Khan\n",
    "\n",
    "### Goal\n",
    "\n",
    "In this notebook, I intend to utilize the UCI Heart Disease Dataset [link uci-heart-disease](https://www.kaggle.com/datasets/redwankarimsony/heart-disease-data/data) to develop and train a machine learning model. The goal is to accurately predict the presence of heart disease in individuals by analyzing a range of health-related factors. Through this process, I'll apply various data preprocessing and machine learning techniques to create a model that can serve as a valuable tool in identifying potential heart disease risks based on clinical parameters.\n",
    "\n",
    "I will employ the following machine learning models:\n",
    "\n",
    "  - Simple Imputer model\n",
    "  - Random Forest model\n",
    "\n",
    "I will be using the following measurement metrics to determine whether the model is appropriate for the patient:\n",
    "\n",
    "  - Accuracy score\n",
    "  - Precision score\n",
    "  - Recall score\n",
    "  - F1 score\n",
    "\n",
    "### Dataset \n",
    "The UCI Heart Disease dataset contains a collection of features that are used to predict the presence of heart disease in patients. Each row in the dataset represents a different patient, and the columns represent various attributes related to their health and heart disease status.  The dataset is  collected from \n",
    "\n",
    "  #### Dataset Overview\n",
    "\n",
    "- **Number of Instances:** (total number of patients are 920)\n",
    "- **Number of Attributes:** (total number of features excluding the target variable are 15)\n",
    "- **Target Variable:** `num` (indicates the presence of heart disease in the patient)\n",
    "  - The num variable in the UCI Heart Disease dataset is typically used to indicate the presence and severity of heart disease based on angiographic disease status. The values of num generally range from 0 to 4, with each number representing a different level of severity:\n",
    "\n",
    "0: No presence of heart disease.\n",
    "1: Mild or some presence of heart disease.\n",
    "2: Moderate presence of heart disease.\n",
    "3: Severe presence of heart disease.\n",
    "4: Very severe presence of heart disease.\n",
    "\n",
    "  #### Column Descriptions\n",
    "\n",
    "Below is a description of each feature included in the dataset:\n",
    "\n",
    "- `id`: Unique identifier for each patient.\n",
    "- `age`: Age of the patient in years.\n",
    "- `origin`: Place of study where the data was collected.\n",
    "- `sex`: Gender of the patient. Values are Male or Female.\n",
    "- `cp`: Chest pain type. Categories include:\n",
    "  - `typical angina`\n",
    "  - `atypical angina`\n",
    "  - `non-anginal`\n",
    "  - `asymptomatic`\n",
    "- `trestbps`: Resting blood pressure in mm Hg on admission to the hospital.\n",
    "- `chol`: Serum cholesterol in mg/dl.\n",
    "- `fbs`: Indicates if fasting blood sugar is greater than 120 mg/dl (True or False).\n",
    "- `restecg`: Resting electrocardiographic results. Categories include:\n",
    "  - `normal`\n",
    "  - `stt abnormality`\n",
    "  - `lv hypertrophy`\n",
    "- `thalach`: Maximum heart rate achieved.\n",
    "- `exang`: Exercise-induced angina (True or False).\n",
    "- `oldpeak`: ST depression induced by exercise relative to rest.\n",
    "- `slope`: The slope of the peak exercise ST segment.\n",
    "- `ca`: Number of major vessels (0-3) colored by fluoroscopy.\n",
    "- `thal`: Thalassemia category. Categories include:\n",
    "  - `normal`\n",
    "  - `fixed defect`\n",
    "  - `reversible defect`\n",
    "- `num`: The predicted attribute, diagnosis of heart disease (angiographic disease status).\n",
    "  - The num variable in the UCI Heart Disease dataset is typically used to indicate the presence and severity of heart disease based on angiographic disease status. The values of num generally range from 0 to 4, with each number representing a different level of severity:\n",
    "\n",
    "    - 0: No presence of heart disease.\n",
    "    - 1: Mild or some presence of heart disease.\n",
    "    - 2: Moderate presence of heart disease.\n",
    "    - 3: Severe presence of heart disease.\n",
    "    - 4: Very severe presence of heart disease.\n",
    "\n",
    "### Acknowledgements\n",
    "\n",
    "- Hungarian Institute of Cardiology. Budapest: Andras Janosi, M.D.\n",
    "- University Hospital, Zurich, Switzerland: William Steinbrunn, M.D.\n",
    "- University Hospital, Basel, Switzerland: Matthias Pfisterer, M.D.\n",
    "- V.A. Medical Center, Long Beach and Cleveland Clinic Foundation: Robert Detrano, M.D., Ph.D.\n"
   ]
  },
  {
   "cell_type": "code",
   "execution_count": 517,
   "metadata": {},
   "outputs": [],
   "source": [
    "# Importing necessary libraries for data manipulation, analysis, and visualization: pandas, numpy, matplotlib, and seaborn.\n",
    "import pandas as pd\n",
    "import numpy as np\n",
    "import matplotlib.pyplot as plt\n",
    "import seaborn as sns\n",
    "from scipy import stats\n",
    "from sklearn.impute import SimpleImputer\n",
    "from sklearn.preprocessing import LabelEncoder\n",
    "from sklearn.model_selection import train_test_split\n",
    "from sklearn.ensemble import RandomForestClassifier\n",
    "from sklearn.metrics import accuracy_score, confusion_matrix, classification_report\n",
    "import warnings\n",
    "warnings.filterwarnings('ignore')\n",
    "\n"
   ]
  },
  {
   "cell_type": "markdown",
   "metadata": {},
   "source": [
    "### Load Dataset"
   ]
  },
  {
   "cell_type": "code",
   "execution_count": 518,
   "metadata": {},
   "outputs": [
    {
     "data": {
      "text/html": [
       "<div>\n",
       "<style scoped>\n",
       "    .dataframe tbody tr th:only-of-type {\n",
       "        vertical-align: middle;\n",
       "    }\n",
       "\n",
       "    .dataframe tbody tr th {\n",
       "        vertical-align: top;\n",
       "    }\n",
       "\n",
       "    .dataframe thead th {\n",
       "        text-align: right;\n",
       "    }\n",
       "</style>\n",
       "<table border=\"1\" class=\"dataframe\">\n",
       "  <thead>\n",
       "    <tr style=\"text-align: right;\">\n",
       "      <th></th>\n",
       "      <th>id</th>\n",
       "      <th>age</th>\n",
       "      <th>sex</th>\n",
       "      <th>dataset</th>\n",
       "      <th>cp</th>\n",
       "      <th>trestbps</th>\n",
       "      <th>chol</th>\n",
       "      <th>fbs</th>\n",
       "      <th>restecg</th>\n",
       "      <th>thalch</th>\n",
       "      <th>exang</th>\n",
       "      <th>oldpeak</th>\n",
       "      <th>slope</th>\n",
       "      <th>ca</th>\n",
       "      <th>thal</th>\n",
       "      <th>num</th>\n",
       "    </tr>\n",
       "  </thead>\n",
       "  <tbody>\n",
       "    <tr>\n",
       "      <th>0</th>\n",
       "      <td>1</td>\n",
       "      <td>63</td>\n",
       "      <td>Male</td>\n",
       "      <td>Cleveland</td>\n",
       "      <td>typical angina</td>\n",
       "      <td>145.0</td>\n",
       "      <td>233.0</td>\n",
       "      <td>True</td>\n",
       "      <td>lv hypertrophy</td>\n",
       "      <td>150.0</td>\n",
       "      <td>False</td>\n",
       "      <td>2.3</td>\n",
       "      <td>downsloping</td>\n",
       "      <td>0.0</td>\n",
       "      <td>fixed defect</td>\n",
       "      <td>0</td>\n",
       "    </tr>\n",
       "    <tr>\n",
       "      <th>1</th>\n",
       "      <td>2</td>\n",
       "      <td>67</td>\n",
       "      <td>Male</td>\n",
       "      <td>Cleveland</td>\n",
       "      <td>asymptomatic</td>\n",
       "      <td>160.0</td>\n",
       "      <td>286.0</td>\n",
       "      <td>False</td>\n",
       "      <td>lv hypertrophy</td>\n",
       "      <td>108.0</td>\n",
       "      <td>True</td>\n",
       "      <td>1.5</td>\n",
       "      <td>flat</td>\n",
       "      <td>3.0</td>\n",
       "      <td>normal</td>\n",
       "      <td>2</td>\n",
       "    </tr>\n",
       "    <tr>\n",
       "      <th>2</th>\n",
       "      <td>3</td>\n",
       "      <td>67</td>\n",
       "      <td>Male</td>\n",
       "      <td>Cleveland</td>\n",
       "      <td>asymptomatic</td>\n",
       "      <td>120.0</td>\n",
       "      <td>229.0</td>\n",
       "      <td>False</td>\n",
       "      <td>lv hypertrophy</td>\n",
       "      <td>129.0</td>\n",
       "      <td>True</td>\n",
       "      <td>2.6</td>\n",
       "      <td>flat</td>\n",
       "      <td>2.0</td>\n",
       "      <td>reversable defect</td>\n",
       "      <td>1</td>\n",
       "    </tr>\n",
       "    <tr>\n",
       "      <th>3</th>\n",
       "      <td>4</td>\n",
       "      <td>37</td>\n",
       "      <td>Male</td>\n",
       "      <td>Cleveland</td>\n",
       "      <td>non-anginal</td>\n",
       "      <td>130.0</td>\n",
       "      <td>250.0</td>\n",
       "      <td>False</td>\n",
       "      <td>normal</td>\n",
       "      <td>187.0</td>\n",
       "      <td>False</td>\n",
       "      <td>3.5</td>\n",
       "      <td>downsloping</td>\n",
       "      <td>0.0</td>\n",
       "      <td>normal</td>\n",
       "      <td>0</td>\n",
       "    </tr>\n",
       "    <tr>\n",
       "      <th>4</th>\n",
       "      <td>5</td>\n",
       "      <td>41</td>\n",
       "      <td>Female</td>\n",
       "      <td>Cleveland</td>\n",
       "      <td>atypical angina</td>\n",
       "      <td>130.0</td>\n",
       "      <td>204.0</td>\n",
       "      <td>False</td>\n",
       "      <td>lv hypertrophy</td>\n",
       "      <td>172.0</td>\n",
       "      <td>False</td>\n",
       "      <td>1.4</td>\n",
       "      <td>upsloping</td>\n",
       "      <td>0.0</td>\n",
       "      <td>normal</td>\n",
       "      <td>0</td>\n",
       "    </tr>\n",
       "  </tbody>\n",
       "</table>\n",
       "</div>"
      ],
      "text/plain": [
       "   id  age     sex    dataset               cp  trestbps   chol    fbs  \\\n",
       "0   1   63    Male  Cleveland   typical angina     145.0  233.0   True   \n",
       "1   2   67    Male  Cleveland     asymptomatic     160.0  286.0  False   \n",
       "2   3   67    Male  Cleveland     asymptomatic     120.0  229.0  False   \n",
       "3   4   37    Male  Cleveland      non-anginal     130.0  250.0  False   \n",
       "4   5   41  Female  Cleveland  atypical angina     130.0  204.0  False   \n",
       "\n",
       "          restecg  thalch  exang  oldpeak        slope   ca  \\\n",
       "0  lv hypertrophy   150.0  False      2.3  downsloping  0.0   \n",
       "1  lv hypertrophy   108.0   True      1.5         flat  3.0   \n",
       "2  lv hypertrophy   129.0   True      2.6         flat  2.0   \n",
       "3          normal   187.0  False      3.5  downsloping  0.0   \n",
       "4  lv hypertrophy   172.0  False      1.4    upsloping  0.0   \n",
       "\n",
       "                thal  num  \n",
       "0       fixed defect    0  \n",
       "1             normal    2  \n",
       "2  reversable defect    1  \n",
       "3             normal    0  \n",
       "4             normal    0  "
      ]
     },
     "execution_count": 518,
     "metadata": {},
     "output_type": "execute_result"
    }
   ],
   "source": [
    "# read data\n",
    "df = pd.read_csv('data/heart_disease_uci.csv')\n",
    "df.head()"
   ]
  },
  {
   "cell_type": "markdown",
   "metadata": {},
   "source": [
    "### Inspect dataset"
   ]
  },
  {
   "cell_type": "code",
   "execution_count": 519,
   "metadata": {},
   "outputs": [
    {
     "name": "stdout",
     "output_type": "stream",
     "text": [
      "--------------------------------------------------\n",
      "Observations from dataset inspection:\n",
      "--------------------------------------------------\n",
      "There are 920 patients and 16 features in the dataset.\n"
     ]
    }
   ],
   "source": [
    "# Check the shape of the data\n",
    "df.shape\n",
    "\n",
    "print('-' * 50)\n",
    "print('Observations from dataset inspection:')\n",
    "print('-' * 50)\n",
    "\n",
    "print(f\"There are {df.shape[0]} patients and {df.shape[1]} features in the dataset.\")"
   ]
  },
  {
   "cell_type": "code",
   "execution_count": 520,
   "metadata": {},
   "outputs": [
    {
     "name": "stdout",
     "output_type": "stream",
     "text": [
      "<class 'pandas.core.frame.DataFrame'>\n",
      "RangeIndex: 920 entries, 0 to 919\n",
      "Data columns (total 16 columns):\n",
      " #   Column    Non-Null Count  Dtype  \n",
      "---  ------    --------------  -----  \n",
      " 0   id        920 non-null    int64  \n",
      " 1   age       920 non-null    int64  \n",
      " 2   sex       920 non-null    object \n",
      " 3   dataset   920 non-null    object \n",
      " 4   cp        920 non-null    object \n",
      " 5   trestbps  861 non-null    float64\n",
      " 6   chol      890 non-null    float64\n",
      " 7   fbs       830 non-null    object \n",
      " 8   restecg   918 non-null    object \n",
      " 9   thalch    865 non-null    float64\n",
      " 10  exang     865 non-null    object \n",
      " 11  oldpeak   858 non-null    float64\n",
      " 12  slope     611 non-null    object \n",
      " 13  ca        309 non-null    float64\n",
      " 14  thal      434 non-null    object \n",
      " 15  num       920 non-null    int64  \n",
      "dtypes: float64(5), int64(3), object(8)\n",
      "memory usage: 115.1+ KB\n"
     ]
    }
   ],
   "source": [
    "df.info()"
   ]
  },
  {
   "cell_type": "markdown",
   "metadata": {},
   "source": [
    "This function `print_heading` is used to print a provided heading text surrounded by lines. It takes one argument, `heading`, which is the text to be printed as the heading. The function prints 50 hyphen characters, then the heading text, and then another 50 hyphen characters to create a clear and distinct section in the output."
   ]
  },
  {
   "cell_type": "code",
   "execution_count": 521,
   "metadata": {},
   "outputs": [],
   "source": [
    "# print heading\n",
    "def print_heading(heading):\n",
    "    print('-' * 50)\n",
    "    print(heading)\n",
    "    print('-' * 50)"
   ]
  },
  {
   "cell_type": "code",
   "execution_count": 522,
   "metadata": {},
   "outputs": [
    {
     "name": "stdout",
     "output_type": "stream",
     "text": [
      "--------------------------------------------------\n",
      "DATASET INFORMATION SUMMARY\n",
      "--------------------------------------------------\n",
      "1. The dataset contains 920 entries across 16 features pertinent to heart disease studies.\n",
      "2. Complete data is available for 'id', 'age', 'sex', 'dataset', 'cp', and the outcome variable 'num'.\n",
      "3. Significant missing data is found in 'ca' with 66.41% missing.\n",
      "4. Significant missing data is found in 'thal' with 52.83% missing.\n",
      "5. 'Slope' also has a considerable amount of missing data, with only 611 non-null entries.\n",
      "6. Variables 'trestbps', 'chol', 'fbs', 'thalch', 'exang', and 'oldpeak' have some missing values but to a lesser extent.\n"
     ]
    }
   ],
   "source": [
    "print_heading(\"DATASET INFORMATION SUMMARY\")\n",
    "\n",
    "print(\"1. The dataset contains 920 entries across 16 features pertinent to heart disease studies.\")\n",
    "print(\"2. Complete data is available for 'id', 'age', 'sex', 'dataset', 'cp', and the outcome variable 'num'.\")\n",
    "print(\"3. Significant missing data is found in 'ca' with 66.41% missing.\")\n",
    "print(\"4. Significant missing data is found in 'thal' with 52.83% missing.\")\n",
    "print(\"5. 'Slope' also has a considerable amount of missing data, with only 611 non-null entries.\")\n",
    "print(\"6. Variables 'trestbps', 'chol', 'fbs', 'thalch', 'exang', and 'oldpeak' have some missing values but to a lesser extent.\")"
   ]
  },
  {
   "cell_type": "markdown",
   "metadata": {},
   "source": [
    "### Summary statistics"
   ]
  },
  {
   "cell_type": "code",
   "execution_count": 523,
   "metadata": {},
   "outputs": [
    {
     "data": {
      "text/html": [
       "<div>\n",
       "<style scoped>\n",
       "    .dataframe tbody tr th:only-of-type {\n",
       "        vertical-align: middle;\n",
       "    }\n",
       "\n",
       "    .dataframe tbody tr th {\n",
       "        vertical-align: top;\n",
       "    }\n",
       "\n",
       "    .dataframe thead th {\n",
       "        text-align: right;\n",
       "    }\n",
       "</style>\n",
       "<table border=\"1\" class=\"dataframe\">\n",
       "  <thead>\n",
       "    <tr style=\"text-align: right;\">\n",
       "      <th></th>\n",
       "      <th>id</th>\n",
       "      <th>age</th>\n",
       "      <th>trestbps</th>\n",
       "      <th>chol</th>\n",
       "      <th>thalch</th>\n",
       "      <th>oldpeak</th>\n",
       "      <th>ca</th>\n",
       "      <th>num</th>\n",
       "    </tr>\n",
       "  </thead>\n",
       "  <tbody>\n",
       "    <tr>\n",
       "      <th>count</th>\n",
       "      <td>920.000000</td>\n",
       "      <td>920.000000</td>\n",
       "      <td>861.000000</td>\n",
       "      <td>890.000000</td>\n",
       "      <td>865.000000</td>\n",
       "      <td>858.000000</td>\n",
       "      <td>309.000000</td>\n",
       "      <td>920.000000</td>\n",
       "    </tr>\n",
       "    <tr>\n",
       "      <th>mean</th>\n",
       "      <td>460.500000</td>\n",
       "      <td>53.510870</td>\n",
       "      <td>132.132404</td>\n",
       "      <td>199.130337</td>\n",
       "      <td>137.545665</td>\n",
       "      <td>0.878788</td>\n",
       "      <td>0.676375</td>\n",
       "      <td>0.995652</td>\n",
       "    </tr>\n",
       "    <tr>\n",
       "      <th>std</th>\n",
       "      <td>265.725422</td>\n",
       "      <td>9.424685</td>\n",
       "      <td>19.066070</td>\n",
       "      <td>110.780810</td>\n",
       "      <td>25.926276</td>\n",
       "      <td>1.091226</td>\n",
       "      <td>0.935653</td>\n",
       "      <td>1.142693</td>\n",
       "    </tr>\n",
       "    <tr>\n",
       "      <th>min</th>\n",
       "      <td>1.000000</td>\n",
       "      <td>28.000000</td>\n",
       "      <td>0.000000</td>\n",
       "      <td>0.000000</td>\n",
       "      <td>60.000000</td>\n",
       "      <td>-2.600000</td>\n",
       "      <td>0.000000</td>\n",
       "      <td>0.000000</td>\n",
       "    </tr>\n",
       "    <tr>\n",
       "      <th>25%</th>\n",
       "      <td>230.750000</td>\n",
       "      <td>47.000000</td>\n",
       "      <td>120.000000</td>\n",
       "      <td>175.000000</td>\n",
       "      <td>120.000000</td>\n",
       "      <td>0.000000</td>\n",
       "      <td>0.000000</td>\n",
       "      <td>0.000000</td>\n",
       "    </tr>\n",
       "    <tr>\n",
       "      <th>50%</th>\n",
       "      <td>460.500000</td>\n",
       "      <td>54.000000</td>\n",
       "      <td>130.000000</td>\n",
       "      <td>223.000000</td>\n",
       "      <td>140.000000</td>\n",
       "      <td>0.500000</td>\n",
       "      <td>0.000000</td>\n",
       "      <td>1.000000</td>\n",
       "    </tr>\n",
       "    <tr>\n",
       "      <th>75%</th>\n",
       "      <td>690.250000</td>\n",
       "      <td>60.000000</td>\n",
       "      <td>140.000000</td>\n",
       "      <td>268.000000</td>\n",
       "      <td>157.000000</td>\n",
       "      <td>1.500000</td>\n",
       "      <td>1.000000</td>\n",
       "      <td>2.000000</td>\n",
       "    </tr>\n",
       "    <tr>\n",
       "      <th>max</th>\n",
       "      <td>920.000000</td>\n",
       "      <td>77.000000</td>\n",
       "      <td>200.000000</td>\n",
       "      <td>603.000000</td>\n",
       "      <td>202.000000</td>\n",
       "      <td>6.200000</td>\n",
       "      <td>3.000000</td>\n",
       "      <td>4.000000</td>\n",
       "    </tr>\n",
       "  </tbody>\n",
       "</table>\n",
       "</div>"
      ],
      "text/plain": [
       "               id         age    trestbps        chol      thalch     oldpeak  \\\n",
       "count  920.000000  920.000000  861.000000  890.000000  865.000000  858.000000   \n",
       "mean   460.500000   53.510870  132.132404  199.130337  137.545665    0.878788   \n",
       "std    265.725422    9.424685   19.066070  110.780810   25.926276    1.091226   \n",
       "min      1.000000   28.000000    0.000000    0.000000   60.000000   -2.600000   \n",
       "25%    230.750000   47.000000  120.000000  175.000000  120.000000    0.000000   \n",
       "50%    460.500000   54.000000  130.000000  223.000000  140.000000    0.500000   \n",
       "75%    690.250000   60.000000  140.000000  268.000000  157.000000    1.500000   \n",
       "max    920.000000   77.000000  200.000000  603.000000  202.000000    6.200000   \n",
       "\n",
       "               ca         num  \n",
       "count  309.000000  920.000000  \n",
       "mean     0.676375    0.995652  \n",
       "std      0.935653    1.142693  \n",
       "min      0.000000    0.000000  \n",
       "25%      0.000000    0.000000  \n",
       "50%      0.000000    1.000000  \n",
       "75%      1.000000    2.000000  \n",
       "max      3.000000    4.000000  "
      ]
     },
     "execution_count": 523,
     "metadata": {},
     "output_type": "execute_result"
    }
   ],
   "source": [
    "df.describe()"
   ]
  },
  {
   "cell_type": "markdown",
   "metadata": {},
   "source": [
    "#### Observations from the summary statistics"
   ]
  },
  {
   "cell_type": "code",
   "execution_count": 524,
   "metadata": {},
   "outputs": [
    {
     "name": "stdout",
     "output_type": "stream",
     "text": [
      "--------------------------------------------------\n",
      "OBSERVATIONS FROM SUMMARY STATISTICS\n",
      "--------------------------------------------------\n",
      "1. There are no heart diseases found in the 25% of the patients with an average of age 47.0.\n",
      "2. There is mild presence of heart diseases found in the 50% of the patients with an average of age 54.0.\n",
      "3. There is moderate presence of heart diseases found in the 75% of the patients with an average of age 60.0 or more.\n"
     ]
    }
   ],
   "source": [
    "\n",
    "print_heading('Observations from summary statistics'.upper())\n",
    "\n",
    "print(f\"1. There are no heart diseases found in the 25% of the patients with an average of age {df.describe().loc['25%', 'age']}.\")\n",
    "print(f\"2. There is mild presence of heart diseases found in the 50% of the patients with an average of age {df.describe().loc['50%', 'age']}.\")\n",
    "print(f\"3. There is moderate presence of heart diseases found in the 75% of the patients with an average of age {df.describe().loc['75%', 'age']} or more.\")"
   ]
  },
  {
   "cell_type": "markdown",
   "metadata": {},
   "source": [
    "### Missing values"
   ]
  },
  {
   "cell_type": "code",
   "execution_count": 525,
   "metadata": {},
   "outputs": [
    {
     "data": {
      "image/png": "[encoded data removed]",
      "text/plain": [
       "<Figure size 1600x600 with 1 Axes>"
      ]
     },
     "metadata": {},
     "output_type": "display_data"
    }
   ],
   "source": [
    "# Plot the heatmap on dataset to check the missing values \n",
    "plt.figure(figsize=(16, 6))\n",
    "sns.heatmap(df.isnull(), cbar=False)\n",
    "plt.title('Missing value in the dataset')\n",
    "plt.show()"
   ]
  },
  {
   "cell_type": "code",
   "execution_count": 526,
   "metadata": {},
   "outputs": [
    {
     "data": {
      "text/plain": [
       "ca          66.41\n",
       "thal        52.83\n",
       "slope       33.59\n",
       "fbs          9.78\n",
       "oldpeak      6.74\n",
       "trestbps     6.41\n",
       "thalch       5.98\n",
       "exang        5.98\n",
       "chol         3.26\n",
       "restecg      0.22\n",
       "id           0.00\n",
       "age          0.00\n",
       "sex          0.00\n",
       "dataset      0.00\n",
       "cp           0.00\n",
       "num          0.00\n",
       "dtype: float64"
      ]
     },
     "execution_count": 526,
     "metadata": {},
     "output_type": "execute_result"
    }
   ],
   "source": [
    "round(((df.isnull().sum() / len(df)) * 100).sort_values(ascending=False),2)"
   ]
  },
  {
   "cell_type": "code",
   "execution_count": 527,
   "metadata": {},
   "outputs": [
    {
     "name": "stdout",
     "output_type": "stream",
     "text": [
      "--------------------------------------------------\n",
      "OBSERVATIONS FROM MISSING VALUES\n",
      "--------------------------------------------------\n",
      "1. The dataset shows significant gaps in key features, with 'ca' and 'thal' being the most affected, missing 66.41% and 52.83% of their data, respectively.\n",
      "2. 'Slope' also has a substantial 33.59% of values missing.\n",
      "3. These high levels of incompleteness are likely to pose challenges for any predictive analysis.\n",
      "4. Advanced imputation techniques may be necessary to address the deficiencies before any reliable model training can be conducted.\n"
     ]
    }
   ],
   "source": [
    "\n",
    "print_heading('Observations from missing values'.upper())\n",
    "\n",
    "print(\"1. The dataset shows significant gaps in key features, with 'ca' and 'thal' being the most affected, missing 66.41% and 52.83% of their data, respectively.\\n\"\n",
    "      \"2. 'Slope' also has a substantial 33.59% of values missing.\\n\"\n",
    "      \"3. These high levels of incompleteness are likely to pose challenges for any predictive analysis.\\n\"\n",
    "      \"4. Advanced imputation techniques may be necessary to address the deficiencies before any reliable model training can be conducted.\")"
   ]
  },
  {
   "cell_type": "markdown",
   "metadata": {},
   "source": [
    "#### Applying the SimpleImputer method to handle smaller percentages of missing values"
   ]
  },
  {
   "cell_type": "code",
   "execution_count": 528,
   "metadata": {},
   "outputs": [
    {
     "name": "stdout",
     "output_type": "stream",
     "text": [
      "--------------------------------------------------\n",
      "OBSERVATIONS FROM MISSING VALUES AFTER IMPUTATION\n",
      "--------------------------------------------------\n",
      "The sum of all missing values, excluding features ['thal', 'ca', 'slope'], is:\n",
      "age         0\n",
      "chol        0\n",
      "cp          0\n",
      "dataset     0\n",
      "exang       0\n",
      "fbs         0\n",
      "id          0\n",
      "num         0\n",
      "oldpeak     0\n",
      "restecg     0\n",
      "sex         0\n",
      "thalch      0\n",
      "trestbps    0\n",
      "dtype: int64\n",
      "\n",
      "--------------------------------------------------\n",
      "HIGH MISSING VALUES FEATURES\n",
      "--------------------------------------------------\n",
      "The sum of all high missing values where simple imputation wasn't used, is:\n",
      "thal     486\n",
      "ca       611\n",
      "slope    309\n",
      "dtype: int64\n"
     ]
    }
   ],
   "source": [
    "# Automatically find numerical and categorical columns with missing values less than 10%\n",
    "missing_threshold = 10  # 10% threshold for missing values\n",
    "total_entries = len(df)\n",
    "target_variable = 'num'\n",
    "\n",
    "# list of numerical columns that have less than a certain threshold of missing values and are not the target variable.\n",
    "numerical_cols = [\n",
    "    col \n",
    "    for col in df.columns \n",
    "    if (\n",
    "        (df[col].dtype in ['int64', 'float64']) and \n",
    "        (df[col].isnull().sum() / total_entries * 100) < missing_threshold and \n",
    "        col != target_variable\n",
    "    )\n",
    "]\n",
    "\n",
    "# list of numerical columns that have less than a certain threshold of missing values\n",
    "categorical_cols = [col\n",
    "                   for col in df.columns \n",
    "                   if (\n",
    "                        df[col].dtype == 'object') and \n",
    "                        (df[col].isnull().sum() / total_entries * 100) < missing_threshold]\n",
    "\n",
    "# Apply simple imputation to numerical and categorical columns\n",
    "num_imputer = SimpleImputer(strategy='median')\n",
    "cat_imputer = SimpleImputer(strategy='most_frequent')\n",
    "\n",
    "# Apply imputation to numerical and categorical columns\n",
    "for col in numerical_cols:\n",
    "    df.loc[:,col] = num_imputer.fit_transform(df[[col]])\n",
    "\n",
    "for col in categorical_cols:\n",
    "    df.loc[:, col] = cat_imputer.fit_transform(df[[col]])\n",
    "\n",
    "print_heading('Observations from missing values after imputation'.upper())\n",
    "\n",
    "# Confirm there are no missing values left\n",
    "\n",
    "missing_values_sum = df[df.columns.difference(['thal', 'ca', 'slope'])].isnull().sum()\n",
    "\n",
    "print(f\"The sum of all missing values, excluding features ['thal', 'ca', 'slope'], is:\\n{missing_values_sum}\"  + \"\\n\")\n",
    "print_heading('High missing values features'.upper())\n",
    "\n",
    "# Display the features with missing values \n",
    "print(f\"The sum of all high missing values where simple imputation wasn't used, is:\\n{df[['thal', 'ca', 'slope']].isnull().sum()}\")\n",
    "    "
   ]
  },
  {
   "cell_type": "markdown",
   "metadata": {},
   "source": [
    "#### Heatmap for missing values"
   ]
  },
  {
   "cell_type": "code",
   "execution_count": 529,
   "metadata": {},
   "outputs": [
    {
     "data": {
      "image/png": "[encoded data removed]",
      "text/plain": [
       "<Figure size 1600x600 with 1 Axes>"
      ]
     },
     "metadata": {},
     "output_type": "display_data"
    }
   ],
   "source": [
    "# create heatmap to check missing values after imputation\n",
    "plt.figure(figsize=(16, 6))\n",
    "sns.heatmap(df.isnull(), cbar=False)\n",
    "plt.title('Missing values after imputation')\n",
    "plt.show()"
   ]
  },
  {
   "cell_type": "markdown",
   "metadata": {},
   "source": [
    "#### Observation\n",
    "Currently, only three variables remain with a substantial proportion of missing values. To address this, I will employ the Random Forest algorithm to estimate the missing data. By training a model specifically for this purpose, I aim to predict the missing entries that exhibit high rates of absence. Once predictions are made, I will integrate these estimations back into the DataFrame to complete the imputation process.\n",
    "#### Strategy\n",
    "I plan to tackle the imputation of missing values in features that have a significant amount of data missing by leveraging the Random Forest algorithm. My strategy is to divide the dataset into two subsets: the first will consist of records without missing values, and the second will contain the instances with missing values in the pertinent features. I will utilize the first subset to train the Random Forest model. Once the model is adequately trained, I will apply it to the second subset, which has the missing values, to predict those values. Finally, I will merge these predictions back into the original dataset, thereby replacing the missing entries with the imputed values.\n",
    "\n",
    "Here are the steps:\n",
    "\n",
    "1. Separate the Data: Split your dataset into two subsets:\n",
    "\n",
    "    - Subset A: Rows without any missing values in the high-missing-rate features.\n",
    "    - Subset B: Rows with missing values in those particular features.\n",
    "2. rain the Model: Use Subset A to train the Random Forest model. The features with complete data will be used as predictors, while the feature you're imputing will be the target variable.\n",
    "\n",
    "3. Predict Missing Values: Apply the trained Random Forest model to Subset B to predict the missing values. Only use the rows with missing values for the prediction to fill in the gaps.\n",
    "\n",
    "4. Impute the Data: Take the predictions for the missing values and use them to impute the missing data in Subset B. This step merges the predicted values back into the original dataset.\n",
    "\n",
    "5. Recombine the Data: Concatenate Subset A and the now imputed Subset B to reconstruct the complete dataset with all the previously missing values imputed.\n",
    "\n"
   ]
  },
  {
   "cell_type": "code",
   "execution_count": 530,
   "metadata": {},
   "outputs": [
    {
     "name": "stdout",
     "output_type": "stream",
     "text": [
      "--------------------------------------------------\n",
      "COMPLETE DATA WITH NO MISSING VALUES\n",
      "--------------------------------------------------\n",
      "The shape of the complete dataframe is: (299, 16)\n",
      "\n",
      "\n",
      "--------------------------------------------------\n",
      "MISSING DATA WITH HIGH MISSING VALUES\n",
      "--------------------------------------------------\n",
      "The shape of the dataframe with missing values is: (621, 16)\n"
     ]
    }
   ],
   "source": [
    "# split the dataset into two subset with one contaning complete data and the other containing missing data for thal, ca, and slope. these dataset should still have all the columns in the result.\n",
    "# create a new dataframe which removes all the rows that nan values\n",
    "df_clean = df.dropna()\n",
    "\n",
    "# create a new dataframe which contains all the rows that have nan values\n",
    "df_missing = df[df.isna().any(axis=1)]\n",
    "\n",
    "print_heading('Complete data with no missing values'.upper())\n",
    "print(f\"The shape of the complete dataframe is: {df_clean.shape}\")\n",
    "print(\"\\n\")\n",
    "print_heading('Missing data with high missing values'.upper())\n",
    "print(f\"The shape of the dataframe with missing values is: {df_missing.shape}\")"
   ]
  },
  {
   "cell_type": "markdown",
   "metadata": {},
   "source": [
    "#### Applying Random Forest Algorithm to train the model"
   ]
  },
  {
   "cell_type": "code",
   "execution_count": 531,
   "metadata": {},
   "outputs": [],
   "source": [
    "def predict_and_evaluate(target_variables, drop_columns):\n",
    "    X = df_clean.drop(drop_columns, axis=1)\n",
    "    y = df_clean[target_variables]\n",
    "\n",
    "    le = LabelEncoder()\n",
    "    for col in X.columns:\n",
    "        if X[col].dtype == 'object':\n",
    "            X[col] = le.fit_transform(X[col])\n",
    "    \n",
    "    X_train, X_test, y_train, y_test = train_test_split(X, y, test_size=0.2, random_state=42)\n",
    "\n",
    "    model = RandomForestClassifier(n_estimators=10, random_state=42)\n",
    "    model.fit(X_train, y_train)\n",
    "\n",
    "    y_pred = model.predict(X_test)\n",
    "\n",
    "    # Display results\n",
    "    print_heading(f'Model performance for {target_variables}'.upper())\n",
    "    print(f\"The accuracy of the model is: {round(accuracy_score(y_test, y_pred),2)}\")\n",
    "    # print classification report\n",
    "\n",
    "    print(f\"Classification report:\\n {classification_report(y_test, y_pred)}\")\n",
    "\n",
    "    return model\n"
   ]
  },
  {
   "cell_type": "code",
   "execution_count": 532,
   "metadata": {},
   "outputs": [
    {
     "name": "stdout",
     "output_type": "stream",
     "text": [
      "--------------------------------------------------\n",
      "MODEL PERFORMANCE FOR SLOPE\n",
      "--------------------------------------------------\n",
      "The accuracy of the model is: 0.72\n",
      "Classification report:\n",
      "               precision    recall  f1-score   support\n",
      "\n",
      " downsloping       0.00      0.00      0.00         3\n",
      "        flat       0.70      0.76      0.73        25\n",
      "   upsloping       0.75      0.75      0.75        32\n",
      "\n",
      "    accuracy                           0.72        60\n",
      "   macro avg       0.48      0.50      0.49        60\n",
      "weighted avg       0.69      0.72      0.70        60\n",
      "\n"
     ]
    }
   ],
   "source": [
    "# Train and evaluate a model for predicting the 'slope' feature, excluding 'slope', 'ca', and 'thal' from the input features.\n",
    "rf_model_slope  = predict_and_evaluate('slope', ['slope', 'ca', 'thal'])\n",
    "\n"
   ]
  },
  {
   "cell_type": "code",
   "execution_count": 533,
   "metadata": {},
   "outputs": [
    {
     "name": "stdout",
     "output_type": "stream",
     "text": [
      "--------------------------------------------------\n",
      "MODEL PERFORMANCE FOR CA\n",
      "--------------------------------------------------\n",
      "The accuracy of the model is: 0.72\n",
      "Classification report:\n",
      "               precision    recall  f1-score   support\n",
      "\n",
      "         0.0       0.76      0.97      0.86        40\n",
      "         1.0       0.67      0.15      0.25        13\n",
      "         2.0       0.33      0.40      0.36         5\n",
      "         3.0       0.00      0.00      0.00         2\n",
      "\n",
      "    accuracy                           0.72        60\n",
      "   macro avg       0.44      0.38      0.37        60\n",
      "weighted avg       0.68      0.72      0.66        60\n",
      "\n"
     ]
    }
   ],
   "source": [
    "# Train and evaluate a model for predicting the 'ca' feature, excluding 'ca', and 'thal' from the input features.\n",
    "rf_model_ca = predict_and_evaluate('ca', [ 'ca', 'thal'])"
   ]
  },
  {
   "cell_type": "code",
   "execution_count": 534,
   "metadata": {},
   "outputs": [
    {
     "name": "stdout",
     "output_type": "stream",
     "text": [
      "--------------------------------------------------\n",
      "MODEL PERFORMANCE FOR THAL\n",
      "--------------------------------------------------\n",
      "The accuracy of the model is: 0.7\n",
      "Classification report:\n",
      "                    precision    recall  f1-score   support\n",
      "\n",
      "     fixed defect       0.00      0.00      0.00         4\n",
      "           normal       0.67      0.94      0.78        31\n",
      "reversable defect       0.76      0.52      0.62        25\n",
      "\n",
      "         accuracy                           0.70        60\n",
      "        macro avg       0.48      0.49      0.47        60\n",
      "     weighted avg       0.67      0.70      0.66        60\n",
      "\n"
     ]
    }
   ],
   "source": [
    "# # Train and evaluate a model for predicting the 'thal' feature.\n",
    "rf_model_thal = predict_and_evaluate('thal', ['thal'])"
   ]
  },
  {
   "cell_type": "markdown",
   "metadata": {},
   "source": [
    "#### Next step - Predicting Missing Values with a Trained Model\n",
    "\n",
    "In our data processing pipeline, we face a dataset, `df_missing`, with a significant number of missing values in the `slope`, `ca`, and `thal` columns. To address this, we undertake the following steps:\n",
    "\n",
    "1. **Data Preparation**:\n",
    "   We create a new DataFrame `df_encoded_pred` by dropping the columns with missing values (`slope`, `ca`, and `thal`) from `df_missing`. This step is crucial for preparing the data for prediction by removing the target variables that we aim to predict.\n",
    "\n",
    "2. **Encoding and Prediction Function**:\n",
    "We define a function `encode_and_predict` to automate the encoding of categorical features and to use a trained model for predicting the missing values:\n",
    "\n",
    "   - The function initializes a LabelEncoder for transforming categorical text data into a numerical format suitable for the model.\n",
    "   - It iterates over each column in the provided DataFrame, applying the label encoder to columns of type object (categorical).\n",
    "     Finally, it uses the input model to predict values for the specified target variable.\n",
    "\n",
    "3. **Applying the Trained Model**:\n",
    "We call the encode_and_predict function, passing in the df_encoded_pred DataFrame, the name of the target variable slope, and the pre-trained model rf_models. These trained model is specifically applied to predict the high number of missing values in the `'slope', 'thal', and 'ca'` column.\n",
    "\n",
    "4. **Updating the Original Data**:\n",
    "After predicting the slope values, we update the corresponding column in the original `df_missing` DataFrame with the newly predicted values. This allows us to fill in the gaps in our original dataset.\n"
   ]
  },
  {
   "cell_type": "markdown",
   "metadata": {},
   "source": [
    "#### Predicting missing values for the slope of the peak exercise ST segment."
   ]
  },
  {
   "cell_type": "code",
   "execution_count": 535,
   "metadata": {},
   "outputs": [],
   "source": [
    "# create a new dataframe and drop the target variables\n",
    "df_encoded_pred = df_missing.drop(['slope', 'ca', 'thal'], axis=1)\n",
    "\n",
    "# Encode categorical features and predict the missing values\n",
    "def encode_and_predict(df, target_variable, model):\n",
    "\n",
    "    # Initialize label encoder\n",
    "    le = LabelEncoder()\n",
    "\n",
    "    # Loop through each column in the DataFrame\n",
    "    for col in df.columns:\n",
    "        # Check if the column is of type 'object' (categorical)\n",
    "        if df[col].dtype == 'object':\n",
    "            # encode the categorical data to integers\n",
    "            df[col] = le.fit_transform(df[col])\n",
    "    # Use the model to apply predictions and assign the predicted values to the target variable\n",
    "    df[target_variable] = model.predict(df)\n",
    "\n",
    "# Encode categorical features and predict the 'slope' column in df_encoded_pred\n",
    "encode_and_predict(df_encoded_pred, 'slope', rf_model_slope)\n",
    "# Update the 'slope' column in df_missing with the predicted values\n",
    "df_missing.loc[:,'slope'] = df_encoded_pred['slope']\n"
   ]
  },
  {
   "cell_type": "markdown",
   "metadata": {},
   "source": [
    "#### Predicting missing values for ca - Number of major vessels (0-3) colored by fluoroscopy.\n",
    "\n"
   ]
  },
  {
   "cell_type": "code",
   "execution_count": 536,
   "metadata": {},
   "outputs": [],
   "source": [
    "# Create a new dataframe and drop the target variables\n",
    "df_encoded_pred = df_missing.drop(['ca', 'thal'], axis=1)\n",
    "# Encode categorical features and predict the 'ca' column in df_encoded_pred\n",
    "encode_and_predict(df_encoded_pred, 'ca', rf_model_ca)\n",
    "# Update the 'ca' column in df_missing with the predicted values\n",
    "df_missing.loc[:, 'ca'] = df_encoded_pred['ca']\n"
   ]
  },
  {
   "cell_type": "markdown",
   "metadata": {},
   "source": [
    "\n",
    "  #### Predicting missing values for thal - Thalassemia category. \n"
   ]
  },
  {
   "cell_type": "code",
   "execution_count": 537,
   "metadata": {},
   "outputs": [],
   "source": [
    "# Create a new dataframe and drop the target variables\n",
    "df_encoded_pred = df_missing.drop(['thal'], axis=1)\n",
    "# Encode categorical features and predict the 'thal' column in df_encoded_pred\n",
    "encode_and_predict(df_encoded_pred, 'thal', rf_model_thal)\n",
    "# Update the 'thal' column in df_missing with the predicted values\n",
    "df_missing.loc[:, 'thal'] = df_encoded_pred['thal']\n"
   ]
  },
  {
   "cell_type": "markdown",
   "metadata": {},
   "source": [
    "#### Next step - Merging the datasets"
   ]
  },
  {
   "cell_type": "code",
   "execution_count": 538,
   "metadata": {},
   "outputs": [
    {
     "name": "stdout",
     "output_type": "stream",
     "text": [
      "--------------------------------------------------\n",
      "DATASET SHAPE INSPECT\n",
      "--------------------------------------------------\n",
      "The shape of the dataset is: 920 rows and 16 columns.\n"
     ]
    }
   ],
   "source": [
    "# merge df_clean and df_missing \n",
    "df = pd.concat([df_clean, df_missing])\n",
    "\n",
    "print_heading('Dataset shape inspect'.upper())\n",
    "print(f\"The shape of the dataset is: {df.shape[0]} rows and {df.shape[1]} columns.\")"
   ]
  },
  {
   "cell_type": "markdown",
   "metadata": {},
   "source": [
    "#### Verfication of the trained model"
   ]
  },
  {
   "cell_type": "code",
   "execution_count": 539,
   "metadata": {},
   "outputs": [
    {
     "name": "stdout",
     "output_type": "stream",
     "text": [
      "--------------------------------------------------\n",
      "MISSING VALUES INSPECT\n",
      "--------------------------------------------------\n",
      "There are no missing values in the dataset.\n"
     ]
    }
   ],
   "source": [
    "# Display the missing values if any in the dataset for verification\n",
    "print_heading('Missing values inspect'.upper())\n",
    "if df.isnull().sum().sum() == 0:\n",
    "    print(\"There are no missing values in the dataset.\")\n",
    "else:\n",
    "    print(\"There are missing values in the dataset.\")"
   ]
  },
  {
   "cell_type": "markdown",
   "metadata": {},
   "source": [
    "#### Heatmap for verifying that the dataset is clean."
   ]
  },
  {
   "cell_type": "code",
   "execution_count": 540,
   "metadata": {},
   "outputs": [
    {
     "data": {
      "image/png": "[encoded data removed]",
      "text/plain": [
       "<Figure size 1600x600 with 1 Axes>"
      ]
     },
     "metadata": {},
     "output_type": "display_data"
    }
   ],
   "source": [
    "# create a heatmap for df to check missing values\n",
    "plt.figure(figsize=(16, 6))\n",
    "sns.heatmap(df.isnull(), cbar=False)\n",
    "plt.title('Missing values after imputation')\n",
    "plt.show()"
   ]
  },
  {
   "cell_type": "markdown",
   "metadata": {},
   "source": [
    "#### Observations about the dataset:\n",
    "- The dataset is fully complete with no missing values in any of the columns.\n",
    "- All 16 columns, including 'id', 'age', 'sex', 'dataset', 'cp', 'trestbps', 'chol', 'fbs', 'restecg', 'thalch', 'exang', 'oldpeak', 'slope', 'ca', 'thal', and 'num', have 0 missing values.\n",
    "- This completeness is an ideal scenario for conducting reliable statistical analyses or for input into machine learning models.\n",
    "- Having no missing values suggests that the data collection process was thorough and that the dataset has been well-prepared for further processing.\n",
    "- With a complete dataset, we can proceed with confidence in exploring the data, visualizing patterns, and drawing insights."
   ]
  }
 ],
 "metadata": {
  "kernelspec": {
   "display_name": "ml_env",
   "language": "python",
   "name": "python3"
  },
  "language_info": {
   "codemirror_mode": {
    "name": "ipython",
    "version": 3
   },
   "file_extension": ".py",
   "mimetype": "text/x-python",
   "name": "python",
   "nbconvert_exporter": "python",
   "pygments_lexer": "ipython3",
   "version": "3.11.5"
  }
 },
 "nbformat": 4,
 "nbformat_minor": 2
}
